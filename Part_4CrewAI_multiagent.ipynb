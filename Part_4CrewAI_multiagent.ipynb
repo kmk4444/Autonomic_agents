{
  "nbformat": 4,
  "nbformat_minor": 0,
  "metadata": {
    "colab": {
      "provenance": [],
      "authorship_tag": "ABX9TyNF6FDWBvjVCMyiv0dKVFDv",
      "include_colab_link": true
    },
    "kernelspec": {
      "name": "python3",
      "display_name": "Python 3"
    },
    "language_info": {
      "name": "python"
    }
  },
  "cells": [
    {
      "cell_type": "markdown",
      "metadata": {
        "id": "view-in-github",
        "colab_type": "text"
      },
      "source": [
        "<a href=\"https://colab.research.google.com/github/kmk4444/Autonomic_agents/blob/main/Part_4CrewAI_multiagent.ipynb\" target=\"_parent\"><img src=\"https://colab.research.google.com/assets/colab-badge.svg\" alt=\"Open In Colab\"/></a>"
      ]
    },
    {
      "cell_type": "markdown",
      "source": [
        "**Requirements.txt**"
      ],
      "metadata": {
        "id": "8AJdvWlTjUjA"
      }
    },
    {
      "cell_type": "code",
      "source": [
        "!touch requirements.txt\n",
        "!echo langchain >> requirements.txt\n",
        "!echo langchain-openai >> requirements.txt\n",
        "!echo langchain-google-genai >> requirements.txt\n",
        "!echo langchainhub >> requirements.txt\n",
        "!echo python-dotenv >> requirements.txt\n",
        "!echo streamlit >> requirements.txt\n",
        "!echo duckduckgo-search >> requirements.txt\n",
        "!echo anthropic >> requirements.txt\n",
        "!echo beautifulsoup4 >> requirements.txt\n",
        "!echo autogenstudio >> requirements.txt\n",
        "!echo crewai >> requirements.txt"
      ],
      "metadata": {
        "id": "liECHA88jULh"
      },
      "execution_count": 1,
      "outputs": []
    },
    {
      "cell_type": "markdown",
      "source": [
        "**terminal / bash komutu**"
      ],
      "metadata": {
        "id": "tDQOnkQEjYLa"
      }
    },
    {
      "cell_type": "code",
      "source": [
        "pip install -r requirements.txt"
      ],
      "metadata": {
        "collapsed": true,
        "id": "a3PWoPTljaba"
      },
      "execution_count": null,
      "outputs": []
    },
    {
      "cell_type": "code",
      "source": [
        "%%writefile crewhelper.py\n",
        "\n",
        "from crewai import Agent, Task\n",
        "\n",
        "def test_expert(llm):\n",
        "\n",
        "  return Agent(\n",
        "      role=\"Kişilik Testleri Uzmanı\",\n",
        "      goal=\"Bireylerin kişilik özellerini belirlemekte kullanılan kişilik testleri geliştirmek.\",\n",
        "      backstory=f\"\"\"\n",
        "                        Sen bir kişilik testleri uzmanısın. Kişilik ve karakter özelliklerini belirlemekte kullanılan psikometrik testler hakkında oldukça kapsamlı bilgi sahibisin.\n",
        "                        Kişilik testleri oluşturmak için gerekli tüm bileşenleri hazırlayabiliyorsun.\n",
        "                        Bu bileşenler şöyle:\n",
        "                        kişilik tipleri ve tanımları,\n",
        "                        kişilik tipleri için temel karaktör özellikleri ve tanımları,\n",
        "                        kişilik tipleri ve karakter özelliklerini belirlemek üzere kullanılacak sorular,\n",
        "                        sorulara verilen yanıtlara göre kişilik tipi ve bu kişilik tipinin temel özelliklerini hesaplama yarayan formül veya algoritma,\n",
        "                        kişilik testi sonunda her bir kişilik tipi içiğn özet metinleri.\n",
        "                        Tüm bu bileşenleri sırasıyla ve birbirleriyle uyumlu olacak şekilde hazırlıyorsun.\n",
        "                        Bu bileşenleri hazırlarken halihazırda kullanılmakta olan Big Five, 4 Renk Kişilik Testi, 16 Personalities testi gibi bilindik örnekleri dikkate alıyorsun.\n",
        "                        Senden bir kişilik testi hazırlaman istendiğinde bu bileşenleri oluşturmak için ihtiyaç duyduğun bilgiler verilmiş mi diye bakıyorsun.\n",
        "                        Eğer daha fazla bilgi ya da detay gerekirse, bunları talep ediyorsun.\n",
        "                        Eğer daha fazla bilgi ya da detay verilirse bunlara göre bileşenleri hazırlıyorsun.\n",
        "                        Ama eğer daha fazla bilgi ya da detay verilmezse, eldeki talimatlara uygun biçimde bileşenleri hazırlamaya başlıyorsun.\n",
        "                        Senden bir kişilik testi istendiğinde bütün bileşenlerinin içeriğini tam ve eksiksiz olarak veriyorsun.\n",
        "                        Birkaç örnek verip gerisini siz de böyle yapabilirsiniz gibi yaklaşımlar sergileme.\n",
        "                        Tüm içeriği verdiğinden emin ol.\n",
        "        \"\"\",\n",
        "        allow_delegation=False,\n",
        "        llm=llm,\n",
        "        verbose=True\n",
        "  )\n",
        "\n",
        "def software_engineer(llm):\n",
        "  return Agent(\n",
        "        role=\"Yazılım Mühendisi\",\n",
        "        goal=\"Verilen isterlere uygun biçimde Python yazılımları için geliştirme yapmak ve gerekli kodları yazmak\",\n",
        "  \t\t  backstory=f\"\"\"\n",
        "                        Sen deneyimli bir yazılım mühendisisin. Sana verilen proje isterlerine uygun olarak gerekli yazılımın tasarımının nasıl olması gerektiğine karar veriyor\n",
        "                        ve gerekli Python Streamlit kodlarını yazıyorsun. Yazılım geliştirmeye başlamadan önce daha fazla bilgiye veya açıklamaya ihtiyacın varsa, bunları talep et.\n",
        "                        Eğer daha fazla bilgi ve açıklama verilirse yazılımı geliştirirken bunlara göre hareket et.\n",
        "                        Ama eğer daha fazla bilgi ya da açıklama verilmezse, başlangıçtaki proje isterlerine göre yazılımını geliştir.\n",
        "                        Geliştirme işlemini tamamladığında daima tüm kodları ver.\n",
        "                        Yazdığın kod dışardan herhangi bir başka dosya çağırmamalı. Her şey tek bir .py dosyası içinde gerçekleşmeli.\n",
        "                        Kişilik testi için oluşturulan her bir bileşeni Streamlit'te doğru bir widget ile dahil etmelisin.\n",
        "                        Kodların bir kısmını yazıp şu kısmı da siz yazın ya da benim yazdığım gibi siz de geriye kalanları tamamlayın gibi bir yanıt verme.\n",
        "                        Her zaman tam ve bitmiş kodu ver.\n",
        "        \"\"\",\n",
        "        allow_delegation=False,\n",
        "        llm=llm,\n",
        "        verbose=True\n",
        "  )\n",
        "\n",
        "def test_consultant(llm):\n",
        "  return Agent(\n",
        "      role=\"Kişilik Testleri Danışmanı\",\n",
        "      goal=\"Hazırlanan kişilik testlerini incelemek ve daha iyi hale getirmek üzere öneriler vermek\",\n",
        "      backstory=f\"\"\"\n",
        "                        Sen deneyimli bir danışmansın ve kişilik testleri konusunda kapsamlı bilgiye sahipsin.\n",
        "                        Hazırlanan kişilik testlerini incele.\n",
        "                        Eğer hatalar varsa bunları söyle ve nasıl düzeltilebileceklerini belirt.\n",
        "                        Eğer iyileştirilecek yönler varsa bunları söyle ve nasıl yapılabileceğini belirt.\n",
        "                        İncelemelerini yaparken ve geri bildirimlerini verirken başlangıçta sunulan proje isterlerine uyumlu olma durumunu dikkate al.\n",
        "                        İncelemelerini yaparken ve geri bildirimlerini verirken ayrıca oluşan kişilik testi içeriğinin yaygın uygulamalar ve\n",
        "                        Big Five, 4 Renk Kişilik Testi, 16 Personalities testi gibi profesyonel testlerle çelişen yönler içermemesine dikkat et.\n",
        "                        Verdiğin öneriler doğrudan aksiyona yönelik olsun. Problemin ne olduğunu ve ne yapılması gerektiğini söyle. Uzun açıklamalar yapma.\n",
        "                        Eğer hazırlanan kişilikt testi yeterli durumdaysa düzeltme ya da öneri verme. Kullanıma hazır olduğunu söyle.\n",
        "        \"\"\",\n",
        "      allow_delegation=False,\n",
        "      llm=llm,\n",
        "      verbose=True\n",
        "  )\n",
        "\n",
        "def create_test_task(instructions, agent):\n",
        "    return Task(description=f\"\"\"\n",
        "            Bir kişilik testi geliştirilmesi projesinde görev alıyorsun. Proje isterleri aşağıda yer alıyor.\n",
        "\n",
        "\t\t\tProje İsterleri:\n",
        "\t\t\t------------\n",
        "\t\t\t{instructions}\n",
        "\n",
        "            ------------\n",
        "            Burada belirtilen isterlere uygun olarak bir kişilik testi hazırla.\n",
        "            Bunun için gerekli tüm bileşenleri oluştur.\n",
        "\n",
        "\t\t\tVerdiğin nihai yanıt tüm bileşenleri içermeli ve tüm bileşenler eksiksiz yazılmış olmalı.\n",
        "\t\t\t\"\"\",\n",
        "\t\t\tagent=agent)\n",
        "\n",
        "def create_review_task(instructions, agent):\n",
        "\n",
        "    return Task(description=f\"\"\"\n",
        "            Bir kişilik testi geliştirilmesi projesinde görev alıyorsun. Proje isterleri aşağıda yer alıyor.\n",
        "\n",
        "\t\t\tProje İsterleri:\n",
        "\t\t\t------------\n",
        "\t\t\t{instructions}\n",
        "\n",
        "            ------------\n",
        "            Burada belirtilen isterlere uygun olarak, hazırlanmış olan kişilik testini incele.\n",
        "            Bu kişilik testinde hata varsa belirt ve nasıl düzeltilebileceğini söyle.\n",
        "            Bu kişilik testini daha iyi hale getirmek için önerilerin varsa belirt.\n",
        "            Eğer kişilik testinin içeriği yeterli ise kullanıma hazır olduğunu söyle.\n",
        "\n",
        "\t\t\tVerdiğin nihai yanıt öneriler ve düzeltmelerini ya da her şey yolunda ise kişilik testinin kullanıma hazır olduğunu belirten tarzda olmalı.\n",
        "\t\t\t\"\"\",\n",
        "\t\t\tagent=agent)\n",
        "\n",
        "\n",
        "def create_code_task(instructions, agent):\n",
        "\n",
        "    return Task(description=f\"\"\"\n",
        "            Bir kişilik testi geliştirilmesi projesinde görev alıyorsun. Proje isterleri aşağıda yer alıyor.\n",
        "\n",
        "\t\t\tProje İsterleri:\n",
        "\t\t\t------------\n",
        "\t\t\t{instructions}\n",
        "\n",
        "            ------------\n",
        "            Burada belirtilen isterlere uygun olarak, hazırlanmış olan kişilik testini kullanıcılara sunmak için gerekli Python Streamlit kodunu yaz.\n",
        "            Kodu doğru ve hatasız yazdığından emin ol.\n",
        "\n",
        "\t\t\tVerdiğin nihai yanıt tamamlanmış Python kodu olmalı. Kodu eksiksik olarak verdiğinden emin ol.\n",
        "\t\t\t\"\"\",\n",
        "\t\t\tagent=agent)\n",
        "\n"
      ],
      "metadata": {
        "colab": {
          "base_uri": "https://localhost:8080/"
        },
        "id": "9w79XoHYkgEI",
        "outputId": "ccfd3064-52bd-400a-b5d3-589b5249c9c5"
      },
      "execution_count": 3,
      "outputs": [
        {
          "output_type": "stream",
          "name": "stdout",
          "text": [
            "Writing crewhelper.py\n"
          ]
        }
      ]
    },
    {
      "cell_type": "code",
      "execution_count": 23,
      "metadata": {
        "id": "BeyaXWfUgjBH",
        "colab": {
          "base_uri": "https://localhost:8080/"
        },
        "outputId": "3d3027d7-98f8-4750-e06a-9613dc2b694c"
      },
      "outputs": [
        {
          "output_type": "stream",
          "name": "stdout",
          "text": [
            "Overwriting crewai.py\n"
          ]
        }
      ],
      "source": [
        "%%writefile crewai.py\n",
        "\n",
        "from crewai import Crew, Process\n",
        "from langchain_google_genai import ChatGoogleGenerativeAI\n",
        "from langchain_openai import ChatOpenAI\n",
        "import crewhelper\n",
        "import os\n",
        "\n",
        "#os.environ[\"OPENAI_API_KEY\"] = os.getenv(\"openai_apikey\")\n",
        "#os.environ[\"GOOGLE_API_KEY\"] = os.getenv(\"google_apikey\")\n",
        "\n",
        "os.environ[\"OPENAI_API_KEY\"] =\"---\"\n",
        "#os.environ[\"GOOGLE_API_KEY\"] = \"---\"\n",
        "\n",
        "#For example, if llm_gpt is better than llm_gemini for creating code, you can use llm_gemini.\n",
        "#llm_gemini = ChatGoogleGenerativeAI(model=\"gemini-pro\", temperature=0)\n",
        "llm_gpt = ChatOpenAI(model=\"gpt-4-0125-preview\", temperature=0)\n",
        "\n",
        "instructions=f\"\"\"Profesyonel hayatta kişilerin karakteristik özelliklerini belirlemekte kullanmak üzere bir kişilik testi geliştir.\n",
        "Bu testi geliştirirken Big Five, 16 Personalities veya 4 Renk yaklaşımı bilinen ve geniş kabul görmüş yaklaşımlara uyumlu olarak hareket et.\n",
        "Geliştirdiğin kişilik testi, kişilik tiplerini ve bunların her birinin karakter özelliklerini barındırıyor olmalı.\n",
        "Her bir kişilik tipini ve karakteri test etmek için sorular yazmalısın.\n",
        "Bu soruların yanıtına göre nasıl kullanıcıyı bir tiple ve karakter özellikleriyle bağlantılandıracağına dair bir yönteme karar vermelisin.\n",
        "Bu testi yapan kişilere göstermek için her bir kişilik tipinin kısa özet metinleri de olmalı.\n",
        "Bu kriterlere uygun olarak kişilik testinin içeriklerini hazırladıktan sonra tüm bu içerikleri içerecek şekilde bir Python Streamlit uygulaması yazmalısın.\n",
        "Böylece kullanıcılar bu uygulamayı kullanarak kişilik tiplerini öğrenebilirler.\n",
        "Derin bir nefes al ve bu görevleri birer birer yerine getir.\n",
        "\"\"\"\n",
        "#test_expert is a big case;that's why, we created test_consultant to get help about this problem.\n",
        "test_expert = crewhelper.test_expert(llm=llm_gpt)\n",
        "sotware_engineer=crewhelper.software_engineer(llm=llm_gpt)\n",
        "test_consultant = crewhelper.test_consultant(llm=llm_gpt)\n",
        "\n",
        "# there are three task, but you can create three task for three agents or one task for three agent\n",
        "test_development_task = crewhelper.create_test_task(instructions=instructions, agent=test_expert)\n",
        "code_task = crewhelper.software_engineer(instructions=instructions, agent=sotware_engineer)\n",
        "test_review_task = crewhelper.create_review_task(instructions=instructions, agent=test_consultant)\n",
        "\n",
        "crew = Crew(\n",
        "    agents = [\n",
        "        test_expert,\n",
        "        software_engineer,\n",
        "        test_consultant\n",
        "    ],\n",
        "    tasks = [\n",
        "        test_development_task,\n",
        "        test_review_task,\n",
        "        code_task,\n",
        "    ],\n",
        "    verbose=True,\n",
        "    process=Process.sequential # thanks to sequential, firstly, test_development_task, secondly,test_review_task and  code_task\n",
        ") # you can select hierarchical but you need to describe this task depends on these tasks etc.\n",
        "\n",
        "\n",
        "result = crew.kickoff()\n",
        "\n",
        "print(\"*\"*100)\n",
        "print(\"İşte Sonuçlar:\")\n",
        "print(\"*\"*100)\n",
        "print(\"*\"*100)\n",
        "print(result)\n"
      ]
    },
    {
      "cell_type": "code",
      "source": [
        "!python crewai.py"
      ],
      "metadata": {
        "colab": {
          "base_uri": "https://localhost:8080/"
        },
        "id": "AYng-ODpjdLs",
        "outputId": "7b8effba-617d-48af-c6fe-768debf74eff"
      },
      "execution_count": 22,
      "outputs": [
        {
          "output_type": "stream",
          "name": "stdout",
          "text": [
            "Traceback (most recent call last):\n",
            "  File \"/content/crewai.py\", line 2, in <module>\n",
            "    from crewai import Crew, Process\n",
            "  File \"/content/crewai.py\", line 2, in <module>\n",
            "    from crewai import Crew, Process\n",
            "ImportError: cannot import name 'Crew' from partially initialized module 'crewai' (most likely due to a circular import) (/content/crewai.py)\n"
          ]
        }
      ]
    }
  ]
}