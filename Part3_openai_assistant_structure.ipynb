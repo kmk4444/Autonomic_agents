{
  "nbformat": 4,
  "nbformat_minor": 0,
  "metadata": {
    "colab": {
      "provenance": [],
      "authorship_tag": "ABX9TyMcBpzH3QX46IurB0H/Lz+P",
      "include_colab_link": true
    },
    "kernelspec": {
      "name": "python3",
      "display_name": "Python 3"
    },
    "language_info": {
      "name": "python"
    }
  },
  "cells": [
    {
      "cell_type": "markdown",
      "metadata": {
        "id": "view-in-github",
        "colab_type": "text"
      },
      "source": [
        "<a href=\"https://colab.research.google.com/github/kmk4444/Autonomic_agents/blob/main/Part3_openai_assistant_structure.ipynb\" target=\"_parent\"><img src=\"https://colab.research.google.com/assets/colab-badge.svg\" alt=\"Open In Colab\"/></a>"
      ]
    },
    {
      "cell_type": "markdown",
      "source": [
        "- OpenAI created Assistant because of benefit of agents. There are four parts which are Assistant, Thread, Message and Run.\n",
        "- Assistant means like agent. It is consisted of Name, Instructions and Tools.\n",
        "- Thanks to thread, we run assistant.\n",
        "- Then, assistant create message like thread_01.\n",
        "- Lastly, it added to the end of the chain."
      ],
      "metadata": {
        "id": "TenyMEBFXet0"
      }
    },
    {
      "cell_type": "markdown",
      "source": [
        "Requirements.txt"
      ],
      "metadata": {
        "id": "EwgFa6jlnLqA"
      }
    },
    {
      "cell_type": "code",
      "source": [
        "!touch requirements.txt\n",
        "!echo langchain >> requirements.txt\n",
        "!echo langchain-openai >> requirements.txt\n",
        "!echo langchain-google-genai >> requirements.txt\n",
        "!echo langchainhub >> requirements.txt\n",
        "!echo python-dotenv >> requirements.txt\n",
        "!echo streamlit >> requirements.txt\n",
        "!echo duckduckgo-search >> requirements.txt\n",
        "!echo anthropic >> requirements.txt\n",
        "!echo beautifulsoup4 >> requirements.txt\n",
        "!echo autogenstudio >> requirements.txt\n",
        "!echo crewai >> requirements.txt"
      ],
      "metadata": {
        "id": "X-QOIcBqnMSi"
      },
      "execution_count": null,
      "outputs": []
    },
    {
      "cell_type": "markdown",
      "source": [
        "terminal / bash komutu"
      ],
      "metadata": {
        "id": "wDCB8GCqnPGB"
      }
    },
    {
      "cell_type": "code",
      "execution_count": null,
      "metadata": {
        "id": "dyla2m-MFGpn"
      },
      "outputs": [],
      "source": [
        "pip install -r requirements.txt"
      ]
    },
    {
      "cell_type": "code",
      "source": [
        "%%writefile assistant_helper.py\n",
        "\n",
        "from openai import OpenAI\n",
        "import time\n",
        "import os\n",
        "from dotenv import load_dotenv\n",
        "\n",
        "#load_dotenv()\n",
        "\n",
        "#my_key_openai = os.getenv(\"openai_apikey\")\n",
        "my_key_openai=\"---\"\n",
        "\n",
        "client = OpenAI(api_key=my_key_openai)\n",
        "\n",
        "assistant_id = \"asst_9PkxJouK0097L2lrUxSznB2U\" #| Python Code Assistant\n",
        "\n",
        "#create a new thread\n",
        "#create a new run\n",
        "#create a new message\n",
        "#take the AI response\n",
        "\n",
        "def start_net_thread():\n",
        "  thread = client.beta.threads.create()\n",
        "  thread_id = thread.id\n",
        "\n",
        "  return thread_id\n",
        "\n",
        "def add_message_to_thread(thread_id,prompt):\n",
        "  message = client.beta.threads.messages.create(\n",
        "      thread_id=thread_id,\n",
        "      role=\"user\",\n",
        "      content=prompt,\n",
        "  )\n",
        "\n",
        "def execute_run_cycle(thread_id):\n",
        "  run = client.beta.threads.runs.create(\n",
        "      thread_id=thread_id,\n",
        "      assistant_id=assistant_id\n",
        "  )\n",
        "\n",
        "  while True:\n",
        "\n",
        "    run = client.beta.threads.runs.retrieve(\n",
        "        thread_id=thread_id,\n",
        "        run_id=run.id\n",
        "    )\n",
        "\n",
        "    if run.completed_at:\n",
        "      elapsed = run.completed_at - run.created_at\n",
        "      lapsed = time.strftime(\"%H:%M:%S\", time.gmtime(elapsed))\n",
        "      print(f\"Run completed in {elapsed}\")\n",
        "      print(\"-\"*100)\n",
        "      break\n",
        "    time.sleep(1)\n",
        "\n",
        "  messages = client.beta.threads.messages.list(thread_id=thread_id)\n",
        "  last_message = messsages.data[0]\n",
        "\n",
        "  AI_Response = last_message.content[0].text.value\n",
        "\n",
        "  return AI_Response\n"
      ],
      "metadata": {
        "id": "JcDvsMLvnTLk"
      },
      "execution_count": null,
      "outputs": []
    },
    {
      "cell_type": "code",
      "source": [
        "%%writefile app_assistant.py\n",
        "\n",
        "import streamlit as st\n",
        "import assistant_helper\n",
        "\n",
        "if \"messages\" not in st.session_state:\n",
        "  st.session_state.messages = []\n",
        "  st.session_state.thread_id= None\n",
        "\n",
        "st.set_page_config(page_title=\"Python Kodlama Asistanı\", page_icon=\":speech_balloon:\")\n",
        "st.title(\"Python Kodlama Asistanı\")\n",
        "st.divider()\n",
        "\n",
        "for message in st.session_state.messages:\n",
        "  with st.chat_message(message[\"role\"]):\n",
        "    st.markdown(message[\"content\"])\n",
        "\n",
        "if prompt := st.chat_input(\"Mesajınızı yazınız\"):\n",
        "  with st.chat_message(\"user\"):\n",
        "    st.markdown(prompt)\n",
        "\n",
        "  with st.spinner(\"Yanıt oluşturuluyor...\")\n",
        "    if st.session_state.thread_id is None:\n",
        "      st.session_state.thread_id = assistant_helper.start_new_thread()\n",
        "\n",
        "    assistant_helper.add_message_to_thread(thread_id=st.session_state.thread_id, prompt=prompt)\n",
        "\n",
        "    AI_Response = assistant_helper.execute_run_cycle(thread_id=st.session_state.thread_id)\n",
        "\n",
        "    with st.chat_message(\"assistant\"):\n",
        "      st.markdown(AI_Response)\n",
        "\n",
        "   st.session_state_messages.append({\"role\":\"user\",\"content\":prompt})\n",
        "   st.session_state.messages.append({\"role\":\"assistant\",\"content\":AI_Response})"
      ],
      "metadata": {
        "id": "pixiv60ipzR-"
      },
      "execution_count": null,
      "outputs": []
    }
  ]
}