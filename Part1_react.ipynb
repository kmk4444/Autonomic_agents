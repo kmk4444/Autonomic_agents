{
  "nbformat": 4,
  "nbformat_minor": 0,
  "metadata": {
    "colab": {
      "provenance": [],
      "authorship_tag": "ABX9TyNx4Quxh1Qw+Xlo3AD/OCm4",
      "include_colab_link": true
    },
    "kernelspec": {
      "name": "python3",
      "display_name": "Python 3"
    },
    "language_info": {
      "name": "python"
    }
  },
  "cells": [
    {
      "cell_type": "markdown",
      "metadata": {
        "id": "view-in-github",
        "colab_type": "text"
      },
      "source": [
        "<a href=\"https://colab.research.google.com/github/kmk4444/Autonomic_agents/blob/main/Part1_react.ipynb\" target=\"_parent\"><img src=\"https://colab.research.google.com/assets/colab-badge.svg\" alt=\"Open In Colab\"/></a>"
      ]
    },
    {
      "cell_type": "markdown",
      "source": [
        "**ReACT**\n",
        "- ReACT means Reason and Act.\n",
        "- Reason is creating an idea.\n",
        "- Act is action.\n",
        "- Reason: Chain of Thought Prompting\n",
        "- Act:Action Plan Generation\n",
        "- ReAct was developed by Google Research and Princeton University\n",
        "- There are different tools, for example, searching web, calculate, rag, draw a picture.\n",
        "\n",
        "https://www.width.ai/post/react-prompting"
      ],
      "metadata": {
        "id": "Y9C47YbdCSQ9"
      }
    },
    {
      "cell_type": "code",
      "execution_count": null,
      "metadata": {
        "id": "pvpGzh-SkfeA"
      },
      "outputs": [],
      "source": [
        "from langchain import hub\n",
        "from langchain.agents import AgentExecutor, create_react_agent\n",
        "from langchain_community.tools.tavily_search import TavilySearchResults\n",
        "from langchain_openai import ChatOpenAI\n",
        "from langchain_google_genai import ChatGoogleGenerativeAI\n",
        "import os\n",
        "from dotenv import load_dotenv\n",
        "\n",
        "#load_dotenv()\n",
        "\n",
        "#os.environ[\"TAVILY_API_KEY\"] = os.getenv(\"tavily_apikey\")\n",
        "#my_key_openai = os.getenv(\"openai_apikey\")\n",
        "#my_key_google = os.getenv(\"google_apikey\")\n",
        "\n",
        "#API KEY\n",
        "my_key_google=\"----\"\n",
        "my_key_openai=\"---\"\n",
        "os.environ[\"TAVILY_API_KEY\"]=\"---\"\n",
        "\n",
        "# CREATING A MODEL\n",
        "llm_gemini = ChatGoogleGenerativeAI(google_api_key=my_key_google, model=\"gemini-pro\")\n",
        "llm_gpt = ChatOpenAI(api_key=my_key_openai, model=\"gpt-4-0125-preview\")\n",
        "\n",
        "tools = [TavilySearchResults(max_results=1)] # we select tools in this line. we selected just one tool.\n",
        "\n",
        "#prompt = hub.pull(\"emreyz/react-turkce\")\n",
        "prompt = hub.pull(\"hwchase17/react\")# agent needs a system prompt. we reached a system prompt by hub\n",
        "#we can save our prompt langchain hub platform. Then, we call these prompts easily.\n",
        "\n",
        "llm = llm_gpt # We prefer chatgpt but you can choose llm_gemini\n",
        "\n",
        "agent = create_react_agent(llm, tools, prompt)\n",
        "\n",
        "agent_executor = AgentExecutor(agent=agent, tools=tools, verbose=True)\n",
        "\n",
        "result = agent_executor.invoke({\"input\": \"Türkiye'de bir sonraki yerel seçimler hangi tarihte gerçekleştirilecek? Cevabı bulduktan sonra yanıtını Türkçe yaz.\"}, handle_parsing_errors=True)\n",
        "\n",
        "print(\"*\"*100)\n",
        "print(f\"Sorunuz Şuydu: {result['input']}\")\n",
        "print(\"*\"*100)\n",
        "print(f\"Yanıt şu: {result['output']}\")"
      ]
    }
  ]
}