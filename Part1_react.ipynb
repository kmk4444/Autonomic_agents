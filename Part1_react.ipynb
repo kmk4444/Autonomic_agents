{
  "nbformat": 4,
  "nbformat_minor": 0,
  "metadata": {
    "colab": {
      "provenance": [],
      "authorship_tag": "ABX9TyPWzgwd/Xvd69GFa13qkbaA",
      "include_colab_link": true
    },
    "kernelspec": {
      "name": "python3",
      "display_name": "Python 3"
    },
    "language_info": {
      "name": "python"
    }
  },
  "cells": [
    {
      "cell_type": "markdown",
      "metadata": {
        "id": "view-in-github",
        "colab_type": "text"
      },
      "source": [
        "<a href=\"https://colab.research.google.com/github/kmk4444/Autonomic_agents/blob/main/Part1_react.ipynb\" target=\"_parent\"><img src=\"https://colab.research.google.com/assets/colab-badge.svg\" alt=\"Open In Colab\"/></a>"
      ]
    },
    {
      "cell_type": "markdown",
      "source": [
        "**ReACT**\n",
        "- ReACT means Reason and Act.\n",
        "- Reason is creating an idea.\n",
        "- Act is action.\n",
        "- Reason: Chain of Thought Prompting\n",
        "- Act:Action Plan Generation\n",
        "- ReAct was developed by Google Research and Princeton University\n",
        "- There are different tools, for example, searching web, calculate, rag, draw a picture."
      ],
      "metadata": {
        "id": "Y9C47YbdCSQ9"
      }
    },
    {
      "cell_type": "code",
      "execution_count": null,
      "metadata": {
        "id": "pvpGzh-SkfeA"
      },
      "outputs": [],
      "source": [
        "print(\"hello\")"
      ]
    }
  ]
}